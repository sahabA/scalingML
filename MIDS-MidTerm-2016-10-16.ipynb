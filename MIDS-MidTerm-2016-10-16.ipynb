{
 "cells": [
  {
   "cell_type": "markdown",
   "metadata": {},
   "source": [
    "# MIDS Machine Learning at Scale\n",
    "## MidTerm Exam  \n",
    "\n",
    "12:15PM - 2:00PM(psT)\n",
    "October 19, 2016   \n",
    "Midterm\n",
    "\n",
    "MIDS Machine Learning at Scale\n",
    "\n",
    "\n",
    "\n",
    "### Please insert your contact information here\n",
    "Name: Sahab Aslam   \n",
    "email: sahabaslam@hotmail.com \n",
    "UC Berkeley ID: 26061144"
   ]
  },
  {
   "cell_type": "code",
   "execution_count": 1,
   "metadata": {
    "collapsed": false
   },
   "outputs": [],
   "source": [
    "import numpy as np\n",
    "from __future__ import division\n",
    "\n",
    "%reload_ext autoreload\n",
    "%autoreload 2\n"
   ]
  },
  {
   "cell_type": "markdown",
   "metadata": {},
   "source": [
    "# Exam Instructions\n",
    "\n",
    "1. : Please insert Name and Email address in the first cell of this notebook\n",
    "2. : Please acknowledge receipt of exam by sending a quick email reply to the instructor\n",
    "3. : Review the submission form first to scope it out (it will take a 5-10 minutes to input your \n",
    "   answers and other information into this form): \n",
    "\n",
    "    + [Exam Submission form](http://goo.gl/forms/ggNYfRXz0t) \n",
    "\n",
    "4. : Please keep all your work and responses in ONE (1) notebook only (and submit via the submission form)\n",
    "5. : Please make sure that the NBViewer link for your Submission notebook works \n",
    "6. : Please submit your solutions and notebook via the following form:\n",
    "\n",
    "     + [Exam Submission form](http://goo.gl/forms/ggNYfRXz0t)\n",
    "\n",
    "7. : For the midterm you will need access to MrJob and Jupyter on your local machines or on AltaScale/AWS to complete some of the questions (like fill in the code to do X).\n",
    "8. : As for question types:\n",
    "    + Knowledge test Programmatic/doodle (take photos; embed the photos in your notebook) \n",
    "    + All programmatic questions can be run locally on your laptop (using MrJob only) or on the cluster\n",
    "\n",
    "9. : This is an open book exam meaning you can consult webpages and textbooks, class notes, slides etc. but you can not discuss with each other or any other person/group. If any collusion, then this will result in a zero grade and will be grounds for dismissal from the entire program. Please complete this exam by yourself within the time limit. "
   ]
  },
  {
   "cell_type": "markdown",
   "metadata": {},
   "source": [
    "# Exam questions begins here"
   ]
  },
  {
   "cell_type": "markdown",
   "metadata": {},
   "source": [
    "===Map-Reduce==="
   ]
  },
  {
   "cell_type": "markdown",
   "metadata": {},
   "source": [
    "### MT1. Which of the following statememts about map-reduce are true? \n",
    "\n",
    "(I) If you only have 1 computer with 1 computing core, then map-reduce is unlikely to help   \n",
    "(II) If we run map-reduce using N single-core computers, then it is likely to get at least an N-Fold speedup compared to using 1 computer   \n",
    "(III) Because of network latency and other overhead associated with map-reduce, if we run map-reduce using N    computers, then we will get less than N-Fold speedup compared to using 1 computer   \n",
    "(IV) When using map-reduce for learning a naive Bayes classifier for SPAM classification, we usually use a single machine that accumulates the partial class and word stats from each of the map machines, in order to compute the final model.\n",
    "\n",
    "Please select one from the following that is most correct:\n",
    "\n",
    "* (a) I, II, III, IV\n",
    "* (b) I, III, IV\n",
    "* (c) I, III\n",
    "* (d) I,II, III"
   ]
  },
  {
   "cell_type": "markdown",
   "metadata": {},
   "source": [
    "#####  MT1. a  #  ####\n",
    "<span style=\"font-weight:bold; color:green;\">C\n",
    "\n",
    "NOTE that it is Not necessary to provide an answer in this cell. But as you can imagine putting in some notes enables you to cross check your logic later.\n",
    "</SPAN>"
   ]
  },
  {
   "cell_type": "markdown",
   "metadata": {},
   "source": [
    "===Order inversion===\n",
    "\n",
    "### MT2. normalized product co-occurrence \n",
    "\n",
    "uppose you wish to write a MapReduce job that creates  normalized product co-occurrence (i.e., pairs of products that have been purchased together) data form a large transaction file of shopping baskets. In addition, we want the relative frequency of coocurring products. Given this scenario, to ensure that all (potentially many) reducers\n",
    "receive appropriate normalization factors (denominators)for a product\n",
    "in the most effcient order in their input streams (so as to minimize memory overhead on the reducer side), \n",
    "the mapper should emit/yield records according to which pattern for the product occurence totals:   \n",
    "\n",
    "(a) emit (\\*,product) count   \n",
    "(b) There is no need to use  order inversion here   \n",
    "(c) emit (product,\\*) count   \n",
    "(d) None of the above   "
   ]
  },
  {
   "cell_type": "markdown",
   "metadata": {
    "collapsed": true
   },
   "source": [
    "A"
   ]
  },
  {
   "cell_type": "markdown",
   "metadata": {},
   "source": [
    "===Map-Reduce===\n",
    "\n",
    "### MT3. What is the input to the Reduce function in MRJob? Select the most correct choice.  \n",
    "\n",
    "   \n",
    "(a) An arbitrarily sized list of key/value pairs.    \n",
    "(b) One key and a list of some values associated with that key  \n",
    "(c) One key and a list of all values associated with that key.   \n",
    "(d) None of the above   "
   ]
  },
  {
   "cell_type": "markdown",
   "metadata": {
    "collapsed": true
   },
   "source": [
    "C"
   ]
  },
  {
   "cell_type": "markdown",
   "metadata": {},
   "source": [
    "===Bayesian document classification===   \n",
    "  \n",
    "### MT4. When building a Bayesian document classifier, Laplace smoothing serves what purpose?   \n",
    "\n",
    "(a) It allows you to use your training data as your validation data.   \n",
    "(b) It prevents zero-products in the posterior distribution.  \n",
    "(c) It accounts for words that were missed by regular expressions.    \n",
    "(d) None of the above   "
   ]
  },
  {
   "cell_type": "markdown",
   "metadata": {
    "collapsed": true
   },
   "source": [
    "#B"
   ]
  },
  {
   "cell_type": "markdown",
   "metadata": {},
   "source": [
    "### MT5. Big Data\n",
    "Big data is defined as the voluminous amount of structured, unstructured or semi-structured data that has huge potential for mining but is so large that it cannot be processed nor stored using traditional (single computer) computing and storage systems. Big data is characterized by its high velocity, volume and variety that requires cost effective and innovative methods for information processing to draw meaningful business insights. More than the volume of the data – it is the nature of the data that defines whether it is considered as Big Data or not. What do the four V’s of Big Data denote? Here is a potential simple explanation for each of the four critical features of big data (some or all of which is correct):\n",
    "\n",
    "__Statements__ \n",
    "* (I)  Volume –Scale of data\n",
    "* (II) Velocity – Batch processing of data offline\n",
    "* (III)Variety – Different forms of data\n",
    "* (IV) Veracity –Uncertainty of data\n",
    "\n",
    "Which combination of the above statements is correct. Select a single correct response from the following :\n",
    "\n",
    "* (a) I, II, III, IV\n",
    "* (b) I, III, IV\n",
    "* (c) I, III\n",
    "* (d) I,II, III"
   ]
  },
  {
   "cell_type": "markdown",
   "metadata": {
    "collapsed": true
   },
   "source": [
    "A)  "
   ]
  },
  {
   "cell_type": "markdown",
   "metadata": {},
   "source": [
    "### MT6. Combiners can be integral to the successful utilization of the Hadoop shuffle.  \n",
    "Using combiners result in what?  \n",
    "\n",
    "* (I) minimization of reducer workload     \n",
    "* (II) minimization of disk storage for mapper results   \n",
    "* (III) minimization of network traffic    \n",
    "* (IV) none of the above \n",
    "\n",
    "Select most correct option (i.e., select one option only) from the following:\n",
    "\n",
    "* (a) I   \n",
    "* (b) I, II and III   \n",
    "* (c) II and III   \n",
    "* (d) IV   \n"
   ]
  },
  {
   "cell_type": "markdown",
   "metadata": {
    "collapsed": true
   },
   "source": [
    "B) II => III => I"
   ]
  },
  {
   "cell_type": "markdown",
   "metadata": {},
   "source": [
    "## Pairwise similarity using K-L divergence\n",
    "\n",
    "In probability theory and information theory, the Kullback–Leibler divergence \n",
    "(also information divergence, information gain, relative entropy, KLIC, or KL divergence) \n",
    "is a non-symmetric measure of the difference between two probability distributions P and Q. \n",
    "Specifically, the Kullback–Leibler divergence of Q from P, denoted DKL(P\\‖Q), \n",
    "is a measure of the information lost when Q is used to approximate P:\n",
    "\n",
    "For discrete probability distributions P and Q, \n",
    "the Kullback–Leibler divergence of Q from P is defined to be\n",
    "\n",
    "    + KLDistance(P, Q) = Sum_over_item_i (P(i) log (P(i) / Q(i))      \n",
    "\n",
    "In the extreme cases, the KL Divergence is 1 when P and Q are maximally different\n",
    "and is 0 when the two distributions are exactly the same (follow the same distribution).\n",
    "\n",
    "For more information on K-L Divergence see:\n",
    "\n",
    "    + [K-L Divergence](https://en.wikipedia.org/wiki/Kullback%E2%80%93Leibler_divergence)\n",
    "\n",
    "For the next three question we will use an MRjob class for calculating pairwise similarity \n",
    "using K-L Divergence as the similarity measure:\n",
    "\n",
    "* Job 1: create inverted index (assume just two objects)\n",
    "* Job 2: calculate/accumulate the similarity of each pair of objects using K-L Divergence\n",
    "\n",
    "\n",
    "Using the following cells  then fill in the code for the first reducer to calculate \n",
    "the K-L divergence of objects (letter documents) in line1 and line2, i.e., KLD(Line1||line2).\n",
    "\n",
    "Here we ignore characters which are not alphabetical. And all alphabetical characters are lower-cased in the first mapper."
   ]
  },
  {
   "cell_type": "markdown",
   "metadata": {},
   "source": [
    "## Using the MRJob Class below  calculate the  KL divergence of the following two string objects."
   ]
  },
  {
   "cell_type": "code",
   "execution_count": 7,
   "metadata": {
    "collapsed": false
   },
   "outputs": [
    {
     "name": "stdout",
     "output_type": "stream",
     "text": [
      "Writing kltext.txt\n"
     ]
    }
   ],
   "source": [
    "%%writefile kltext.txt\n",
    "1.Data Science is an interdisciplinary field about processes and systems to extract knowledge or insights from large volumes of data in various forms (data in various forms, data in various forms, data in various forms), either structured or unstructured,[1][2] which is a continuation of some of the data analysis fields such as statistics, data mining and predictive analytics, as well as Knowledge Discovery in Databases.\n",
    "2.Machine learning is a subfield of computer science[1] that evolved from the study of pattern recognition and computational learning theory in artificial intelligence.[1] Machine learning explores the study and construction of algorithms that can learn from and make predictions on data.[2] Such algorithms operate by building a model from example inputs in order to make data-driven predictions or decisions,[3]:2 rather than following strictly static program instructions."
   ]
  },
  {
   "cell_type": "markdown",
   "metadata": {},
   "source": [
    "## MRjob class for calculating pairwise similarity using K-L Divergence as the similarity measure\n",
    "\n",
    "Job 1: create inverted index (assume just two objects) <P>\n",
    "Job 2: calculate the similarity of each pair of objects "
   ]
  },
  {
   "cell_type": "code",
   "execution_count": 8,
   "metadata": {
    "collapsed": false
   },
   "outputs": [
    {
     "data": {
      "text/plain": [
       "1.0986122886681098"
      ]
     },
     "execution_count": 8,
     "metadata": {},
     "output_type": "execute_result"
    }
   ],
   "source": [
    "import numpy as np\n",
    "np.log(3)"
   ]
  },
  {
   "cell_type": "code",
   "execution_count": 9,
   "metadata": {
    "collapsed": false
   },
   "outputs": [
    {
     "name": "stdout",
     "output_type": "stream",
     "text": [
      "1.Data Science is an interdisciplinary field about processes and systems to extract knowledge or insights from large volumes of data in various forms (data in various forms, data in various forms, data in various forms), either structured or unstructured,[1][2] which is a continuation of some of the data analysis fields such as statistics, data mining and predictive analytics, as well as Knowledge Discovery in Databases.\r\n",
      "2.Machine learning is a subfield of computer science[1] that evolved from the study of pattern recognition and computational learning theory in artificial intelligence.[1] Machine learning explores the study and construction of algorithms that can learn from and make predictions on data.[2] Such algorithms operate by building a model from example inputs in order to make data-driven predictions or decisions,[3]:2 rather than following strictly static program instructions."
     ]
    }
   ],
   "source": [
    "!cat kltext.txt"
   ]
  },
  {
   "cell_type": "code",
   "execution_count": 15,
   "metadata": {
    "collapsed": false
   },
   "outputs": [
    {
     "name": "stdout",
     "output_type": "stream",
     "text": [
      "Overwriting kldivergence.py\n"
     ]
    }
   ],
   "source": [
    "%%writefile kldivergence.py\n",
    "from __future__ import division\n",
    "from mrjob.job import MRJob\n",
    "import re\n",
    "import numpy as np\n",
    "class kldivergence(MRJob):\n",
    "    \n",
    "    # process each string character by character\n",
    "    # the relative frequency of each character emitting Pr(character|str)\n",
    "    # for input record 1.abcbe\n",
    "    # emit \"a\"    [1, 0.2]\n",
    "    # emit \"b\"    [1, 0.4] etc...\n",
    "    def mapper1(self, _, line):\n",
    "        index = int(line.split('.',1)[0])\n",
    "        letter_list = re.sub(r\"[^A-Za-z]+\", '', line).lower()\n",
    "        count = {}\n",
    "        for l in letter_list:\n",
    "            if count.has_key(l):\n",
    "                count[l] += 1\n",
    "            else:\n",
    "                count[l] = 1\n",
    "        for key in count:\n",
    "            yield key, [index, count[key]*1.0/len(letter_list)]\n",
    "\n",
    "\n",
    "    def reducer1(self, key, values):\n",
    "        p = 0\n",
    "        q = 0\n",
    "        for v in values:\n",
    "            if v[0] == 1:  #String 1\n",
    "                p = v[1]\n",
    "            else:          # String 2\n",
    "                q = v[1]\n",
    "                \n",
    "        yield None, p*np.log(p/q)\n",
    "\n",
    "    #Aggegate components            \n",
    "    def reducer2(self, key, values):\n",
    "        kl_sum = 0\n",
    "        for value in values:\n",
    "            kl_sum = kl_sum + value\n",
    "        yield \"KLDivergence\", kl_sum\n",
    "            \n",
    "    def steps(self):\n",
    "        return [self.mr(mapper=self.mapper1,\n",
    "                        reducer=self.reducer1),\n",
    "                \n",
    "                self.mr(reducer=self.reducer2)\n",
    "               \n",
    "               ]\n",
    "\n",
    "if __name__ == '__main__':\n",
    "    kldivergence.run()"
   ]
  },
  {
   "cell_type": "code",
   "execution_count": 23,
   "metadata": {
    "collapsed": false
   },
   "outputs": [
    {
     "name": "stdout",
     "output_type": "stream",
     "text": [
      "('KLDivergence', 0.08088278445318145)\n"
     ]
    }
   ],
   "source": [
    "%reload_ext autoreload\n",
    "%autoreload 2\n",
    "from mrjob.job import MRJob\n",
    "from kldivergence import kldivergence\n",
    "#import numpy as np\n",
    "\n",
    "#dont forget to save kltext.txt (see earlier cell)\n",
    "mr_job = kldivergence(args=['kltext.txt'])\n",
    "with mr_job.make_runner() as runner: \n",
    "    runner.run()\n",
    "    # stream_output: get access of the output \n",
    "    for line in runner.stream_output():\n",
    "        print mr_job.parse_output_line(line)"
   ]
  },
  {
   "cell_type": "markdown",
   "metadata": {},
   "source": [
    "Questions:"
   ]
  },
  {
   "cell_type": "markdown",
   "metadata": {},
   "source": [
    "### MT7. Which number below is the closest to the result you get for KLD(Line1||line2)?   \n",
    "(a) 0.7   \n",
    "(b) 0.5   \n",
    "(c) 0.2   \n",
    "(d) 0.1  "
   ]
  },
  {
   "cell_type": "markdown",
   "metadata": {
    "collapsed": true
   },
   "source": [
    "d) it's a stretch"
   ]
  },
  {
   "cell_type": "markdown",
   "metadata": {},
   "source": [
    "### MT8. Which of the following letters are missing from these character vectors?   \n",
    "(a) p and t   \n",
    "(b) k and q   \n",
    "(c) j and q   \n",
    "(d) j and f   "
   ]
  },
  {
   "cell_type": "code",
   "execution_count": 25,
   "metadata": {
    "collapsed": false
   },
   "outputs": [
    {
     "name": "stdout",
     "output_type": "stream",
     "text": [
      "q\n",
      "j\n"
     ]
    }
   ],
   "source": [
    "import re\n",
    "#) we could use the whole text as a single vector here, because if it's in one of the vector, it would influence KL distance\n",
    "#) I think it's more interesting to check the one that is missing in one vector but present in the other\n",
    "#) that is going to influence the most\n",
    "line =\"Data Science is an interdisciplinary field about processes and systems to extract knowledge or insights from large volumes of data in various forms (data in various forms, data in various forms, data in various forms), either structured or unstructured,[1][2] which is a continuation of some of the data analysis fields such as statistics, data mining and predictive analytics, as well as Knowledge Discovery in Databases.Machine learning is a subfield of computer science[1] that evolved from the study of pattern recognition and computational learning theory in artificial intelligence.[1] Machine learning explores the study and construction of algorithms that can learn from and make predictions on data.[2] Such algorithms operate by building a model from example inputs in order to make data-driven predictions or decisions,rather than following strictly static program instructions.\"\n",
    "letters_question = ['p', 'k', 'f', 'q', 'j']\n",
    "letters = set(re.sub(r\"[^A-Za-z]+\", '', line).lower())\n",
    "#print letters\n",
    "for i in letters_question:\n",
    "    if i not in letters:\n",
    "        print i"
   ]
  },
  {
   "cell_type": "markdown",
   "metadata": {
    "collapsed": true
   },
   "source": [
    "c"
   ]
  },
  {
   "cell_type": "code",
   "execution_count": 45,
   "metadata": {
    "collapsed": false
   },
   "outputs": [
    {
     "data": {
      "image/png": "[encoded data removed]",
      "text/plain": [
       "<matplotlib.figure.Figure at 0x7f434875a050>"
      ]
     },
     "metadata": {},
     "output_type": "display_data"
    }
   ],
   "source": [
    "%matplotlib inline\n",
    "from matplotlib import pyplot as mp\n",
    "import pandas as pd\n",
    "from pylab import rcParams\n",
    "import scipy.stats as stats\n",
    "import pylab as pl\n",
    "import math\n",
    "import numpy as np\n",
    "p = pd.read_csv(\"p.txt\", sep=\"\\t\", names =[\"P_Distribution\"])\n",
    "q = pd.read_csv(\"q.txt\", sep=\"\\t\", names =[\"Q_Distribution\"])\n",
    "kll = p.P_Distribution*np.log(p.P_Distribution/q.Q_Distribution)\n",
    "\n",
    "q = (q*100).round(1)\n",
    "p = (p*100).round(1)\n",
    "dist = pd.concat([q, p], axis=1)\n",
    "rcParams['figure.figsize'] =30, 10\n",
    "plt = dist.plot()\n",
    "kll.plot(secondary_y=True)  ##titleless              \n",
    "\n",
    "\n",
    "mp.show()"
   ]
  },
  {
   "cell_type": "code",
   "execution_count": 49,
   "metadata": {
    "collapsed": false
   },
   "outputs": [
    {
     "data": {
      "image/png": "[encoded data removed]",
      "text/plain": [
       "<matplotlib.figure.Figure at 0x7f4358f23150>"
      ]
     },
     "metadata": {},
     "output_type": "display_data"
    }
   ],
   "source": [
    "\n",
    "rcParams['figure.figsize'] =30, 10\n",
    "#dist = pd.concat([q, p], axis=1)\n",
    "kll_qtp = q.Q_Distribution*np.log(q.Q_Distribution/p.P_Distribution)\n",
    "plt2 = dist.plot()\n",
    "kll_qtp.plot(secondary_y=True)\n",
    "mp.show()"
   ]
  },
  {
   "cell_type": "code",
   "execution_count": 52,
   "metadata": {
    "collapsed": false
   },
   "outputs": [
    {
     "name": "stdout",
     "output_type": "stream",
     "text": [
      "Overwriting kldivergence_smooth.py\n"
     ]
    }
   ],
   "source": [
    "%%writefile kldivergence_smooth.py\n",
    "from __future__ import division\n",
    "from mrjob.job import MRJob\n",
    "import re\n",
    "import numpy as np\n",
    "class kldivergence_smooth(MRJob):\n",
    "    \n",
    "    # process each string character by character\n",
    "    # the relative frequency of each character emitting Pr(character|str)\n",
    "    # for input record 1.abcbe\n",
    "    # emit \"a\"    [1, (1+1)/(5+24)]\n",
    "    # emit \"b\"    [1, (2+1)/(5+24) etc...\n",
    "    def mapper1(self, _, line):\n",
    "        index = int(line.split('.',1)[0])\n",
    "        letter_list = re.sub(r\"[^A-Za-z]+\", '', line).lower()\n",
    "        count = {}\n",
    "        \n",
    "        # (ni+1)/(n+24)\n",
    "        \n",
    "        for l in letter_list:\n",
    "            if count.has_key(l):\n",
    "                count[l] += 1\n",
    "            else:\n",
    "                count[l] = 1\n",
    "        for key in count:\n",
    "            #yield key, [index, count[key]*1.0/len(letter_list)]\n",
    "            yield key, [index, (count[key]+1.0 )*1.0/(len(letter_list)+24)]\n",
    "\n",
    "    \n",
    "    def reducer1(self, key, values):\n",
    "        p = 0\n",
    "        q = 0\n",
    "        for v in values:\n",
    "            if v[0] == 1:\n",
    "                p = v[1]\n",
    "            else:\n",
    "                q = v[1]\n",
    "                \n",
    "        yield \"*\",  p*np.log(p/q)\n",
    "\n",
    "    # Aggregate components             \n",
    "    def reducer2(self, key, values):\n",
    "        kl_sum = 0\n",
    "        for value in values:\n",
    "            kl_sum = kl_sum + value\n",
    "        yield \"KLDivergence\", kl_sum\n",
    "            \n",
    "    def steps(self):\n",
    "        return [self.mr(mapper=self.mapper1,\n",
    "                        reducer=self.reducer1),\n",
    "                self.mr(reducer=self.reducer2)\n",
    "               \n",
    "               ]\n",
    "\n",
    "if __name__ == '__main__':\n",
    "    kldivergence_smooth.run()"
   ]
  },
  {
   "cell_type": "code",
   "execution_count": 55,
   "metadata": {
    "collapsed": false
   },
   "outputs": [
    {
     "name": "stdout",
     "output_type": "stream",
     "text": [
      "('KLDivergence', 0.06726997279170038)\n"
     ]
    }
   ],
   "source": [
    "%reload_ext autoreload\n",
    "%autoreload 2\n",
    "\n",
    "from kldivergence_smooth import kldivergence_smooth\n",
    "mr_job = kldivergence_smooth(args=['kltext.txt'])\n",
    "with mr_job.make_runner() as runner: \n",
    "    runner.run()\n",
    "    # stream_output: get access of the output \n",
    "    for line in runner.stream_output():\n",
    "        print mr_job.parse_output_line(line)"
   ]
  },
  {
   "cell_type": "markdown",
   "metadata": {},
   "source": [
    "### MT9. The KL divergence on multinomials is defined only when they have nonzero entries. \n",
    "For zero entries, we have to smooth distributions. Suppose we smooth in this way:    \n",
    "\n",
    "(ni+1)/(n+24)   \n",
    "\n",
    "where ni is the count for letter i and n is the total count of all letters.    \n",
    "After smoothing, which number below is the closest to the result you get for KLD(Line1||line2)??   \n",
    "\n",
    "(a) 0.08   \n",
    "(b) 0.71     \n",
    "(c) 0.02    \n",
    "(d) 0.11   \n",
    "\n"
   ]
  },
  {
   "cell_type": "markdown",
   "metadata": {
    "collapsed": true
   },
   "source": [
    "A"
   ]
  },
  {
   "cell_type": "markdown",
   "metadata": {},
   "source": [
    "### MT10. Block size, and mapper tasks\n",
    "Given ten (10) files in the input directory for a Hadoop Streaming job (MRjob or just Hadoop) with the following filesizes (in megabytes): 1, 2,3,4,5,6,7,8,9,10; and a block size of 5M (NOTE: normally we should set the blocksize to 1 GigB using modern computers). How many map tasks will result from processing the data in the input directory? Select the closest number from the following list.\n",
    "\n",
    " (a) 1 map task  \n",
    " (b) 14  \n",
    " (c) 12   \n",
    " (d) None of the above "
   ]
  },
  {
   "cell_type": "markdown",
   "metadata": {
    "collapsed": true
   },
   "source": [
    "C)\n",
    "#http://stackoverflow.com/questions/17459113/how-the-data-is-split-in-hadoop"
   ]
  },
  {
   "cell_type": "markdown",
   "metadata": {
    "collapsed": true
   },
   "source": [
    "### MT11. Aggregation\n",
    "Given a purchase transaction log file where each purchase transaction contains the customer identifier, item purchased and much more information about the transaction. Which of the following statements are true about a MapReduce job that performs an  “aggregation” such as get the number of transaction per customer.\n",
    "\n",
    "__Statements__\n",
    "* (I) A mapper only job will not suffice, as each map tast only gets to see a subset of the data (e.g., one block). As such a mapper only job will only produce intermediate tallys for each customer. \n",
    "* (II) A reducer only job will suffice and is most efficient computationally\n",
    "* (III) If the developer provides a  Mapper and Reducer it can potentially be more efficient than option II\n",
    "* (IV) A reducer only job with a custom partitioner will suffice.\n",
    "\n",
    "Select the most correct option from the following:\n",
    "\n",
    "* (a) I, II, III, IV\n",
    "* (b) II, IV\n",
    "* (c) III, IV\n",
    "* (d) III"
   ]
  },
  {
   "cell_type": "markdown",
   "metadata": {
    "collapsed": true
   },
   "source": [
    "D) I don't understand number IV how that will be applied in this situation"
   ]
  },
  {
   "cell_type": "markdown",
   "metadata": {},
   "source": [
    "### MT12. Naive Bayes\n",
    "Which of the following statements are true regarding Naive Bayes?\n",
    "\n",
    "__Statements__\n",
    "* (I) Naive Bayes is a machine learning algorithm that can be used for classifcation problems only\n",
    "* (II) Multinomial Naive Bayes is a flavour of Naive Bayes for discrete input variables and can be combined  with Laplace smoothing to avoid zero predictions for class posterior probabilities  when attribute value combinations show up during classification but were not present during training. \n",
    "* (III) Naive Bayes can be used for continous valued input variables. In this case, one can use Gaussian distributions to model the class conditional probability distributions Pr(X|Class).\n",
    "* (IV) Naive Bayes can model continous target variables directly.\n",
    "\n",
    "Please select the single most correct combination from the following:\n",
    "    \n",
    "\n",
    "* (a) I, II, III, IV\n",
    "* (b) I, II, III\n",
    "* (c) I, III, IV\n",
    "* (d) I, II\n"
   ]
  },
  {
   "cell_type": "markdown",
   "metadata": {
    "collapsed": true
   },
   "source": [
    "B) # hard to classify continuou target variable directly"
   ]
  },
  {
   "cell_type": "markdown",
   "metadata": {},
   "source": [
    "### MT13. Naive Bayes SPAM model\n",
    "Given the following document dataset for a  Two-Class problem: ham and spam. Use MRJob (please include your code) to build a muiltnomial Naive Bayes classifier. Please use Laplace Smoothing with a hyperparameter of 1. Please use words only (a-z) as features. Please lowercase all words."
   ]
  },
  {
   "cell_type": "code",
   "execution_count": 57,
   "metadata": {
    "collapsed": false
   },
   "outputs": [
    {
     "name": "stdout",
     "output_type": "stream",
     "text": [
      "Writing nbtrain.txt\n"
     ]
    }
   ],
   "source": [
    "%%writefile nbtrain.txt\n",
    "ham d1: \"good\n",
    "ham d2: \"very good\n",
    "spam d3: \"bad\n",
    "spam d4: \"very bad\n",
    "spam d5: \"very bad, very BAD.\""
   ]
  },
  {
   "cell_type": "raw",
   "metadata": {},
   "source": [
    "%%writefile nbtext.txt\n",
    "? d6: “good? bad! very Bad!” "
   ]
  },
  {
   "cell_type": "code",
   "execution_count": 115,
   "metadata": {
    "collapsed": false
   },
   "outputs": [
    {
     "name": "stdout",
     "output_type": "stream",
     "text": [
      "Overwriting naive_bayes.py\n"
     ]
    }
   ],
   "source": [
    "%%writefile naive_bayes.py\n",
    "from __future__ import division\n",
    "from mrjob.job import MRJob\n",
    "from collections import defaultdict\n",
    "import re\n",
    "\n",
    "class naive_bayes(MRJob):\n",
    "    \n",
    "    def mapper(self, _, line):\n",
    "        \n",
    "        #label, id, words = line.split()\n",
    "        info, words = line.split(\":\")\n",
    "        label = info.split()[0]\n",
    "       # print label\n",
    "        words = words.split()\n",
    "       #print words\n",
    "        wordcount = defaultdict(int)\n",
    "        for word in words: #re.findall(r\"[\\w']+\", words):\n",
    "            word = re.sub(r'[^\\x00-\\x7F]+','',word)\n",
    "            word = word.strip().lower()\n",
    "           # word = re.findall(r\"[\\w']+\", word)\n",
    "            wordcount[word] +=1\n",
    "        for word in wordcount:\n",
    "            yield label, [word, wordcount[word]]\n",
    "    \n",
    "    def reducer(self, label, values):\n",
    "        p_word_ham = defaultdict(int)\n",
    "        p_word_spam = defaultdict(int)\n",
    "        spamWords = defaultdict(int)\n",
    "        hamWords = defaultdict(int)\n",
    "        spamCount = 0\n",
    "        hamCount = 0\n",
    "        vocab=set()\n",
    "        \n",
    "        for val in values:\n",
    "            word, count = val\n",
    "            vocab.add(word)\n",
    "            if label == \"spam\":\n",
    "                spamWords[word] += int(count)\n",
    "                spamCount += 1\n",
    "            else:\n",
    "                hamWords[word] += int(count)\n",
    "                hamCount +=1\n",
    "                \n",
    "        for word in vocab:\n",
    "            #will give 0 for viagara if it was never there in ham\n",
    "            #print \"k\"\n",
    "            if(spamCount != 0 & hamCount != 0): #just in case, you never know4\n",
    "                #print \"k\"\n",
    "                p_word_spam[word] = (spamWords[word]*1.00/spamCount*1.0)\n",
    "                p_word_ham[word] = hamWords[word]*1.0000/hamCount*1.0\n",
    "\n",
    "            print word, \"\\t\", p_word_ham[word], \"\\t\", p_word_spam[word] #, \"\\t\", p_word_ham[word]\n",
    "        \n",
    "            \n",
    "    def steps(self):\n",
    "        return [self.mr(mapper=self.mapper, reducer=self.reducer)]\n",
    "\n",
    "if __name__ == '__main__':\n",
    "    naive_bayes.run()"
   ]
  },
  {
   "cell_type": "code",
   "execution_count": 116,
   "metadata": {
    "collapsed": false
   },
   "outputs": [
    {
     "name": "stdout",
     "output_type": "stream",
     "text": [
      "very \t0 \t0\n",
      "good. \t0 \t0\n",
      "very \t0 \t0\n",
      "bad. \t0 \t0\n",
      "bad, \t0 \t0\n"
     ]
    }
   ],
   "source": [
    "from naive_bayes import naive_bayes\n",
    "mr_job = naive_bayes(args=['nbtrain.txt'])\n",
    "with mr_job.make_runner() as runner: \n",
    "    runner.run()\n",
    "    # stream_output: get access of the output \n",
    "    for line in runner.stream_output():\n",
    "        print mr_job.parse_output_line(line)\n",
    "\n"
   ]
  },
  {
   "cell_type": "code",
   "execution_count": 104,
   "metadata": {
    "collapsed": false
   },
   "outputs": [
    {
     "name": "stdout",
     "output_type": "stream",
     "text": [
      "0.05 0.125\n"
     ]
    }
   ],
   "source": [
    "#? d6: “good? bad! very Bad!\n",
    "p_h = .2*.25\n",
    "p_s = .25 *.5\n",
    "print p_h, p_s"
   ]
  },
  {
   "cell_type": "markdown",
   "metadata": {},
   "source": [
    "__QUESTION__\n",
    "\n",
    "Having learnt the Naive Bayes text classification model for this problem using the training data and classified the test data (d6) please indicate which of the following is true:\n",
    "\n",
    "__Statements__\n",
    "* (I)  P(very|ham) = 0.33\n",
    "* (II) P(good|ham) = 0.50\n",
    "* (I)  Posterior Probability P(ham| d6) is approximately 24%\n",
    "* (IV) Class of d6 is ham\n",
    "\n",
    "Please select the single most correct combination of these statements from the following:\n",
    "    \n",
    "\n",
    "* (a) I, II, III, IV\n",
    "* (b) I, II, III\n",
    "* (c) I, III, IV\n",
    "* (d) I, II"
   ]
  },
  {
   "cell_type": "markdown",
   "metadata": {
    "collapsed": true
   },
   "source": [
    "C) #without smoothing"
   ]
  },
  {
   "cell_type": "markdown",
   "metadata": {},
   "source": [
    "### MT14. Is there a map input format (for Hadoop or MRJob)?   \n",
    "\n",
    "(a)  Yes, but only in Hadoop 0.22+.   \n",
    "(b)  Yes, in Hadoop there is a default expectation that each record is delimited by an end of line charcacter and that key is the first token delimited by a tab character and that the value-part  is everything after the tab character.   \n",
    "(c)  No,  when  MRJob INPUT_PROTOCOL = RawValueProtocol. In this case input is processed in format agnostic way thereby avoiding any type of parsing errors. The value is treated as a str, the key is read in as None.   \n",
    "(d) Both b and c are correct answers.  "
   ]
  },
  {
   "cell_type": "markdown",
   "metadata": {
    "collapsed": true
   },
   "source": [
    "#D #double check"
   ]
  },
  {
   "cell_type": "markdown",
   "metadata": {},
   "source": [
    "### MT15. What happens if mapper output does not match reducer input?   \n",
    " \n",
    "(a)  Hadoop API will convert the data to the type that is needed by the reducer.    \n",
    "(b)  Data input/output inconsistency cannot occur. A preliminary validation check is executed prior to the full execution of the job to ensure there is consistency.    \n",
    "(c)  The java compiler will report an error during compilation but the job will complete with exceptions.    \n",
    "(d)  A real-time exception will be thrown and map-reduce job will fail."
   ]
  },
  {
   "cell_type": "markdown",
   "metadata": {
    "collapsed": true
   },
   "source": [
    "A"
   ]
  },
  {
   "cell_type": "markdown",
   "metadata": {
    "collapsed": true
   },
   "source": [
    "### MT16. Why would a developer create a map-reduce without the reduce step?   \n",
    " \n",
    "(a)  Developers should design Map-Reduce jobs without reducers only if no reduce slots are available on the cluster.    \n",
    "(b)  Developers should never design Map-Reduce jobs without reducers. An error will occur upon compile.    \n",
    "(c)  There is a CPU intensive step that occurs between the map and reduce steps. Disabling the reduce step speeds up data processing.  \n",
    "(d)  It is not possible to create a map-reduce job without at least one reduce step. A developer may decide to limit to one reducer for debugging purposes.   \n",
    "\n"
   ]
  },
  {
   "cell_type": "markdown",
   "metadata": {
    "collapsed": true
   },
   "source": [
    "C "
   ]
  },
  {
   "cell_type": "markdown",
   "metadata": {},
   "source": [
    "===Gradient descent===\n",
    "### MT17. Which of the following are true statements with respect to gradient descent for machine learning, where alpha is the learning rate. Select all that apply\n",
    "\n",
    "* (I) To make gradient descent converge, we must slowly decrease alpha over time and use a combiner in the context of Hadoop.\n",
    "* (II) Gradient descent is guaranteed to find the global minimum for any unconstrained convex objective function J() regardless of using a combiner or not in the context of Hadoop\n",
    "* (III) Gradient descent can converge even if alpha is kept fixed. (But alpha cannot be too large, or else it may fail to converge.) Combiners will help speed up the process.\n",
    "* (IV) For the specific choice of cost function J() used in linear regression, there is no local optima (other than the global optimum).\n",
    "\n",
    "\n",
    "Select a single correct response from the following:\n",
    "* (a) I, II, III, IV\n",
    "* (b) I, III, IV\n",
    "* (c) II, III\n",
    "* (d) II,III, IV"
   ]
  },
  {
   "cell_type": "markdown",
   "metadata": {
    "collapsed": true
   },
   "source": [
    "D"
   ]
  },
  {
   "cell_type": "markdown",
   "metadata": {},
   "source": [
    "===Weighted K-means===\n",
    "\n",
    "Write a MapReduce job in MRJob to do the training at scale of a weighted K-means algorithm.\n",
    "\n",
    "You can write your own code or you can use most of the code from the following notebook:\n",
    "\n",
    "* http://nbviewer.jupyter.org/urls/dl.dropbox.com/s/oppgyfqxphlh69g/MrJobKmeans_Corrected.ipynb\n",
    "\n",
    "Weight each example as follows using the inverse vector length (Euclidean norm): \n",
    "\n",
    "weight(X)= 1/||X||, \n",
    "\n",
    "where ||X|| = SQRT(X.X)= SQRT(X1^2 + X2^2)\n",
    "\n",
    "Here X is vector made up of two component X1 and X2.\n",
    "\n",
    "Using the following data to answer the following TWO questions:\n",
    "\n",
    "* https://www.dropbox.com/s/ai1uc3q2ucverly/Kmeandata.csv?dl=0"
   ]
  },
  {
   "cell_type": "markdown",
   "metadata": {},
   "source": [
    "### MT18. Which result below is the closest to the centroids you got after running your weighted K-means code for K=3 for 10 iterations? \n",
    "(old11-12)\n",
    "\n",
    "* (a) (-4.0,0.0), (4.0,0.0), (6.0,6.0)     \n",
    "* (b) (-4.5,0.0), (4.5,0.0), (0.0,4.5)    \n",
    "* (c) (-5.5,0.0), (0.0,0.0), (3.0,3.0)    \n",
    "* (d) (-4.5,0.0), (-4.0,0.0), (0.0,4.5)  "
   ]
  },
  {
   "cell_type": "markdown",
   "metadata": {},
   "source": [
    "B) Counldn't figure out with new KLL used regular KNN'"
   ]
  },
  {
   "cell_type": "code",
   "execution_count": 119,
   "metadata": {
    "collapsed": false
   },
   "outputs": [
    {
     "name": "stdout",
     "output_type": "stream",
     "text": [
      "--2016-10-23 14:13:15--  http://-/\n",
      "Resolving -... failed: Name or service not known.\n",
      "wget: unable to resolve host address “-”\n",
      "--2016-10-23 14:13:15--  http://q/\n",
      "Resolving q... failed: Name or service not known.\n",
      "wget: unable to resolve host address “q”\n",
      "--2016-10-23 14:13:15--  https://www.dropbox.com/s/ai1uc3q2ucverly/Kmeandata.csv?dl=0\n",
      "Resolving www.dropbox.com... 162.125.4.1\n",
      "Connecting to www.dropbox.com|162.125.4.1|:443... connected.\n",
      "HTTP request sent, awaiting response... 302 Found\n",
      "Location: https://dl.dropboxusercontent.com/content_link/cTf99c1qujXFgxbXrG5vhrAWm43OeajdLRPtxALGUDOtUwRekfdFhgPWamISjYbW/file [following]\n",
      "--2016-10-23 14:13:16--  https://dl.dropboxusercontent.com/content_link/cTf99c1qujXFgxbXrG5vhrAWm43OeajdLRPtxALGUDOtUwRekfdFhgPWamISjYbW/file\n",
      "Resolving dl.dropboxusercontent.com... 45.58.74.5\n",
      "Connecting to dl.dropboxusercontent.com|45.58.74.5|:443... connected.\n",
      "HTTP request sent, awaiting response... 200 OK\n",
      "Length: 155486 (152K) [text/csv]\n",
      "Saving to: “kmeans.csv”\n",
      "\n",
      "100%[======================================>] 155,486     --.-K/s   in 0.08s   \n",
      "\n",
      "2016-10-23 14:13:17 (1.92 MB/s) - “kmeans.csv” saved [155486/155486]\n",
      "\n",
      "FINISHED --2016-10-23 14:13:17--\n",
      "Downloaded: 1 files, 152K in 0.08s (1.92 MB/s)\n"
     ]
    }
   ],
   "source": [
    "!wget - q -O kmeans.csv https://www.dropbox.com/s/ai1uc3q2ucverly/Kmeandata.csv?dl=0"
   ]
  },
  {
   "cell_type": "code",
   "execution_count": 144,
   "metadata": {
    "collapsed": false
   },
   "outputs": [
    {
     "name": "stdout",
     "output_type": "stream",
     "text": [
      "Overwriting Kmeans.py\n"
     ]
    }
   ],
   "source": [
    "%%writefile Kmeans.py\n",
    "from numpy import argmin, array, random\n",
    "from mrjob.job import MRJob\n",
    "from mrjob.step import MRStep\n",
    "from itertools import chain\n",
    "import os\n",
    "\n",
    "#Calculate find the nearest centroid for data point \n",
    "def MinDist(datapoint, centroid_points):\n",
    "    datapoint = array(datapoint)\n",
    "    centroid_points = array(centroid_points)\n",
    "    diff = datapoint - centroid_points \n",
    "    diffsq = diff*diff\n",
    "    # Get the nearest centroid for each instance\n",
    "    minidx = argmin(list(diffsq.sum(axis = 1)))\n",
    "\n",
    "    return minidx\n",
    "\n",
    "#Check whether centroids converge\n",
    "def stop_criterion(centroid_points_old, centroid_points_new,T):\n",
    "    oldvalue = list(chain(*centroid_points_old))\n",
    "    newvalue = list(chain(*centroid_points_new))\n",
    "    Diff = [abs(x-y) for x, y in zip(oldvalue, newvalue)]\n",
    "    Flag = True\n",
    "    for i in Diff:\n",
    "        if(i>T):\n",
    "            Flag = False\n",
    "            break\n",
    "    return Flag\n",
    "def listsum(numList):\n",
    "        theSum = 0\n",
    "        for i in numList:\n",
    "            theSum = theSum + i\n",
    "        return theSum\n",
    "\n",
    "class MRKmeans(MRJob):\n",
    "    centroid_points=[]\n",
    "    k=3    \n",
    "    def steps(self):\n",
    "        return [\n",
    "            MRStep(mapper_init = self.mapper_init, mapper=self.mapper,combiner = self.combiner,reducer=self.reducer)\n",
    "               ]\n",
    "    #load centroids info from file\n",
    "    def mapper_init(self):\n",
    "        print \"Current path:\", os.path.dirname(os.path.realpath(__file__))\n",
    "        \n",
    "        self.centroid_points = [map(float,s.split('\\n')[0].split(',')) for s in open(\"Centroids.txt\").readlines()]\n",
    "        #open('Centroids.txt', 'w').close()\n",
    "        \n",
    "        print \"Centroids: \", self.centroid_points\n",
    "        \n",
    "    #load data and output the nearest centroid index and data point \n",
    "    def mapper(self, _, line):\n",
    "        D = (map(float,line.split(',')))\n",
    "        yield int(MinDist(D,self.centroid_points)), (D[0],D[1],1)\n",
    "        \n",
    "    #Combine sum of data points locally\n",
    "    def combiner(self, idx, inputdata):\n",
    "        sumx = sumy = num = 0\n",
    "        for x,y,n in inputdata:\n",
    "            num = num + n\n",
    "            sumx = sumx + x\n",
    "            sumy = sumy + y\n",
    "        yield idx,(sumx,sumy,num)\n",
    "    #Aggregate sum for each cluster and then calculate the new centroids\n",
    "    #\n",
    "    \n",
    "    \n",
    "\n",
    "    def reducer(self, idx, inputdata): \n",
    "        centroids = []\n",
    "        num = [0]*self.k \n",
    "        total_weight = [0]*self.k \n",
    "        w = 0\n",
    "        #norm = 1.0/(datapoint**2 + centroid_points**2 )**.5\n",
    "        for i in range(self.k):\n",
    "            centroids.append([0,0])\n",
    "            \n",
    "        ####Add weight in deciding the centroids###\n",
    "        for x, y, n in inputdata:\n",
    "            #points weight\n",
    "            #we must take norm with respect to centroid otherwise \n",
    "            #centroids would be pulled towards zero/origin instead of\n",
    "            #the dense part of the cluster\n",
    "            weight = 1.0/((centroids[idx][0]-x)**2 + (centroids[idx][1]-y)**2 )**.5\n",
    "           # weight = 1.0/((x)**2 + (y)**2 )**.5\n",
    "            w = w + weight\n",
    "            num[idx] = num[idx] + n\n",
    "            total_weight[idx] = total_weight[idx] + weight # is giving [0, 0.0008, 0]\n",
    "            centroids[idx][0] = centroids[idx][0] + x*weight\n",
    "            centroids[idx][1] = centroids[idx][1] + y*weight\n",
    "           # total_weight += weight\n",
    "        #print \"weih\", total_weight, w*num[idx]\n",
    "        print w\n",
    "        normalizer = (w/num[idx])\n",
    "        centroids[idx][0] = centroids[idx][0]/(num[idx])\n",
    "        centroids[idx][1] = centroids[idx][1]/(num[idx])\n",
    "        yield idx,(centroids[idx][0],centroids[idx][1])\n",
    "      \n",
    "if __name__ == '__main__':\n",
    "    MRKmeans.run()"
   ]
  },
  {
   "cell_type": "code",
   "execution_count": 145,
   "metadata": {
    "collapsed": false
   },
   "outputs": [
    {
     "name": "stdout",
     "output_type": "stream",
     "text": [
      "iteration0:\n",
      "Current path: /tmp/Kmeans.cloudera.20161023.213139.012570/job_local_dir/0/mapper/0\n",
      "Centroids:  [[-2.10625857251, -0.87191201499], [-2.92073595192, -0.174421775216], [1.50007058092, -1.88737986427]]\n",
      "Current path: /tmp/Kmeans.cloudera.20161023.213139.012570/job_local_dir/0/mapper/1\n",
      "Centroids:  [[-2.10625857251, -0.87191201499], [-2.92073595192, -0.174421775216], [1.50007058092, -1.88737986427]]\n",
      "0.0395276037036\n",
      "0.000589920755662\n",
      "0.000761724368606\n",
      "0 [-0.030559197357327223, 0.0009950268838383163]\n",
      "1 [-0.0008187159686352959, 0.0007285554240286462]\n",
      "2 [0.0017969963529232507, 0.00015564533841940672]\n",
      "\n",
      "\n",
      "iteration1:\n",
      "Current path: /tmp/Kmeans.cloudera.20161023.213139.289008/job_local_dir/0/mapper/0\n",
      "Centroids:  [[-0.0305591973573, 0.000995026883838], [-0.000818715968635, 0.000728555424029], [0.00179699635292, 0.000155645338419]]\n",
      "Current path: /tmp/Kmeans.cloudera.20161023.213139.289008/job_local_dir/0/mapper/1\n",
      "Centroids:  [[-0.0305591973573, 0.000995026883838], [-0.000818715968635, 0.000728555424029], [0.00179699635292, 0.000155645338419]]\n",
      "0.000667498492197\n",
      "0.00258043241634\n",
      "0.000731427613415\n",
      "0 [-0.001231854318891861, 0.000547059738201556]\n",
      "1 [0.0007202846939335756, 0.006587093694713488]\n",
      "2 [0.0016200615705719934, 0.0002980290659668441]\n",
      "\n",
      "\n",
      "iteration2:\n",
      "Current path: /tmp/Kmeans.cloudera.20161023.213139.539584/job_local_dir/0/mapper/0\n",
      "Centroids:  [[-0.00123185431889, 0.000547059738202], [0.000720284693934, 0.00658709369471], [0.00162006157057, 0.000298029065967]]\n",
      "Current path: /tmp/Kmeans.cloudera.20161023.213139.539584/job_local_dir/0/mapper/1\n",
      "Centroids:  [[-0.00123185431889, 0.000547059738202], [0.000720284693934, 0.00658709369471], [0.00162006157057, 0.000298029065967]]\n",
      "0.000888530588623\n",
      "0.00069860001744\n",
      "0.00109933709277\n",
      "0 [-0.0022574227251754516, -0.00011379456752410971]\n",
      "1 [0.00023683207532860476, 0.0014068976332962735]\n",
      "2 [0.002783802362894958, -0.0003500615560259285]\n",
      "\n",
      "\n",
      "iteration3:\n",
      "Current path: /tmp/Kmeans.cloudera.20161023.213139.796857/job_local_dir/0/mapper/0\n",
      "Centroids:  [[-0.00225742272518, -0.000113794567524], [0.000236832075329, 0.0014068976333], [0.00278380236289, -0.000350061556026]]\n",
      "Current path: /tmp/Kmeans.cloudera.20161023.213139.796857/job_local_dir/0/mapper/1\n",
      "Centroids:  [[-0.00225742272518, -0.000113794567524], [0.000236832075329, 0.0014068976333], [0.00278380236289, -0.000350061556026]]\n",
      "0.00079446539021\n",
      "0.000820448375324\n",
      "0.000793707903886\n",
      "0 [-0.0019627878886563886, 2.3544482030906706e-05]\n",
      "1 [2.4148238918362396e-05, 0.002068509919081527]\n",
      "2 [0.001972728242351702, 8.738180464415093e-06]\n",
      "\n",
      "\n",
      "iteration4:\n",
      "Current path: /tmp/Kmeans.cloudera.20161023.213140.043150/job_local_dir/0/mapper/0\n",
      "Centroids:  [[-0.00196278788866, 2.35444820309e-05], [2.41482389184e-05, 0.00206850991908], [0.00197272824235, 8.73818046442e-06]]\n",
      "Current path: /tmp/Kmeans.cloudera.20161023.213140.043150/job_local_dir/0/mapper/1\n",
      "Centroids:  [[-0.00196278788866, 2.35444820309e-05], [2.41482389184e-05, 0.00206850991908], [0.00197272824235, 8.73818046442e-06]]\n",
      "0.000802170374024\n",
      "0.000801490016964\n",
      "0.000800442268879\n",
      "0 [-0.002000343672702529, -4.5348484330416053e-07]\n",
      "1 [2.064198769695743e-05, 0.001994279534569277]\n",
      "2 [0.0020063556358775334, -1.1462988645188453e-05]\n",
      "\n",
      "\n",
      "iteration5:\n",
      "Current path: /tmp/Kmeans.cloudera.20161023.213140.283990/job_local_dir/0/mapper/0\n",
      "Centroids:  [[-0.0020003436727, -4.53484843304e-07], [2.0641987697e-05, 0.00199427953457], [0.00200635563588, -1.14629886452e-05]]\n",
      "Current path: /tmp/Kmeans.cloudera.20161023.213140.283990/job_local_dir/0/mapper/1\n",
      "Centroids:  [[-0.0020003436727, -4.53484843304e-07], [2.0641987697e-05, 0.00199427953457], [0.00200635563588, -1.14629886452e-05]]\n",
      "0.000801741181997\n",
      "0.000802250205529\n",
      "0.000800001834743\n",
      "0 [-0.0019983376395327082, 5.711927775000548e-07]\n",
      "1 [2.085578146111719e-05, 0.00199824679154487]\n",
      "2 [0.002004350950006126, -1.0463122071513352e-05]\n",
      "\n",
      "\n",
      "iteration6:\n",
      "Current path: /tmp/Kmeans.cloudera.20161023.213140.516523/job_local_dir/0/mapper/0\n",
      "Centroids:  [[-0.00199833763953, 5.711927775e-07], [2.08557814611e-05, 0.00199824679154], [0.00200435095001, -1.04631220715e-05]]\n",
      "Current path: /tmp/Kmeans.cloudera.20161023.213140.516523/job_local_dir/0/mapper/1\n",
      "Centroids:  [[-0.00199833763953, 5.711927775e-07], [2.08557814611e-05, 0.00199824679154], [0.00200435095001, -1.04631220715e-05]]\n",
      "0.000801741181997\n",
      "0.000802250205529\n",
      "0.000800001834743\n",
      "0 [-0.0019983376395327082, 5.711927775000548e-07]\n",
      "1 [2.085578146111719e-05, 0.00199824679154487]\n",
      "2 [0.002004350950006126, -1.0463122071513352e-05]\n",
      "\n",
      "\n",
      "iteration7:\n",
      "Current path: /tmp/Kmeans.cloudera.20161023.213140.765117/job_local_dir/0/mapper/0\n",
      "Centroids:  [[-0.00199833763953, 5.711927775e-07], [2.08557814611e-05, 0.00199824679154], [0.00200435095001, -1.04631220715e-05]]\n",
      "Current path: /tmp/Kmeans.cloudera.20161023.213140.765117/job_local_dir/0/mapper/1\n",
      "Centroids:  [[-0.00199833763953, 5.711927775e-07], [2.08557814611e-05, 0.00199824679154], [0.00200435095001, -1.04631220715e-05]]\n",
      "0.000801741181997\n",
      "0.000802250205529\n",
      "0.000800001834743\n",
      "0 [-0.0019983376395327082, 5.711927775000548e-07]\n",
      "1 [2.085578146111719e-05, 0.00199824679154487]\n",
      "2 [0.002004350950006126, -1.0463122071513352e-05]\n",
      "\n",
      "\n",
      "iteration8:\n",
      "Current path: /tmp/Kmeans.cloudera.20161023.213140.999843/job_local_dir/0/mapper/0\n",
      "Centroids:  [[-0.00199833763953, 5.711927775e-07], [2.08557814611e-05, 0.00199824679154], [0.00200435095001, -1.04631220715e-05]]\n",
      "Current path: /tmp/Kmeans.cloudera.20161023.213140.999843/job_local_dir/0/mapper/1\n",
      "Centroids:  [[-0.00199833763953, 5.711927775e-07], [2.08557814611e-05, 0.00199824679154], [0.00200435095001, -1.04631220715e-05]]\n",
      "0.000801741181997\n",
      "0.000802250205529\n",
      "0.000800001834743\n",
      "0 [-0.0019983376395327082, 5.711927775000548e-07]\n",
      "1 [2.085578146111719e-05, 0.00199824679154487]\n",
      "2 [0.002004350950006126, -1.0463122071513352e-05]\n",
      "\n",
      "\n",
      "iteration9:\n",
      "Current path: /tmp/Kmeans.cloudera.20161023.213141.273174/job_local_dir/0/mapper/0\n",
      "Centroids:  [[-0.00199833763953, 5.711927775e-07], [2.08557814611e-05, 0.00199824679154], [0.00200435095001, -1.04631220715e-05]]\n",
      "Current path: /tmp/Kmeans.cloudera.20161023.213141.273174/job_local_dir/0/mapper/1\n",
      "Centroids:  [[-0.00199833763953, 5.711927775e-07], [2.08557814611e-05, 0.00199824679154], [0.00200435095001, -1.04631220715e-05]]\n",
      "0.000801741181997\n",
      "0.000802250205529\n",
      "0.000800001834743\n",
      "0 [-0.0019983376395327082, 5.711927775000548e-07]\n",
      "1 [2.085578146111719e-05, 0.00199824679154487]\n",
      "2 [0.002004350950006126, -1.0463122071513352e-05]\n",
      "\n",
      "\n",
      "Centroids\n",
      "\n",
      "[[-0.0019983376395327082, 5.711927775000548e-07], [2.085578146111719e-05, 0.00199824679154487], [0.002004350950006126, -1.0463122071513352e-05]]\n"
     ]
    }
   ],
   "source": [
    "%reload_ext autoreload\n",
    "%autoreload 2\n",
    "from numpy import random\n",
    "from Kmeans import MRKmeans, stop_criterion\n",
    "mr_job = MRKmeans(args=['/home/cloudera/kmeans.csv', '--file=Centroids.txt'])\n",
    "\n",
    "#Geneate initial centroids\n",
    "centroid_points = []\n",
    "k = 3\n",
    "for i in range(k):\n",
    "    centroid_points.append([random.uniform(-3,3),random.uniform(-3,3)])\n",
    "with open('Centroids.txt', 'w+') as f:\n",
    "        f.writelines(','.join(str(j) for j in i) + '\\n' for i in centroid_points)\n",
    "\n",
    "# Update centroids iteratively\n",
    "i = 0\n",
    "while(1):\n",
    "    # save previous centoids to check convergency\n",
    "    centroid_points_old = centroid_points[:]\n",
    "    print \"iteration\"+str(i)+\":\"\n",
    "    with mr_job.make_runner() as runner: \n",
    "        runner.run()\n",
    "        # stream_output: get access of the output \n",
    "        for line in runner.stream_output():\n",
    "            key,value =  mr_job.parse_output_line(line)\n",
    "            print key, value\n",
    "            centroid_points[key] = value\n",
    "            \n",
    "        # Update the centroids for the next iteration\n",
    "        with open('Centroids.txt', 'w') as f:\n",
    "            f.writelines(','.join(str(j) for j in i) + '\\n' for i in centroid_points)\n",
    "        \n",
    "    print \"\\n\"\n",
    "    i = i + 1\n",
    "    if(i==10):\n",
    "   # if(stop_criterion(centroid_points_old,centroid_points,0.01)):\n",
    "        break\n",
    "print \"Centroids\\n\"\n",
    "print centroid_points"
   ]
  },
  {
   "cell_type": "markdown",
   "metadata": {},
   "source": [
    "### MT19. Using the result of the previous question, which number below is the closest  to the average weighted distance between each example and its assigned (closest) centroid?\n",
    "\n",
    "The average weighted distance is defined as \n",
    "sum over i  (weighted_distance_i)     /  sum over i (weight_i)\n",
    "\n",
    "\n",
    "* (a) 2.5     \n",
    "* (b) 1.5     \n",
    "* (c) 0.5     \n",
    "* (d) 4.0   "
   ]
  },
  {
   "cell_type": "markdown",
   "metadata": {},
   "source": [
    "b) Picking the lowest because it is closed to total weight,"
   ]
  },
  {
   "cell_type": "code",
   "execution_count": 142,
   "metadata": {
    "collapsed": false
   },
   "outputs": [
    {
     "name": "stdout",
     "output_type": "stream",
     "text": [
      "Overwriting Kmeans.py\n"
     ]
    }
   ],
   "source": [
    "%%writefile Kmeans.py\n",
    "from numpy import argmin, array, random\n",
    "from mrjob.job import MRJob\n",
    "from mrjob.step import MRStep\n",
    "from itertools import chain\n",
    "import os\n",
    "\n",
    "#Calculate find the nearest centroid for data point \n",
    "def MinDist(datapoint, centroid_points):\n",
    "    datapoint = array(datapoint)\n",
    "    centroid_points = array(centroid_points)\n",
    "    diff = datapoint - centroid_points \n",
    "    diffsq = diff*diff\n",
    "    # Get the nearest centroid for each instance\n",
    "    minidx = argmin(list(diffsq.sum(axis = 1)))\n",
    "    return minidx\n",
    "\n",
    "#Check whether centroids converge\n",
    "def stop_criterion(centroid_points_old, centroid_points_new,T):\n",
    "    oldvalue = list(chain(*centroid_points_old))\n",
    "    newvalue = list(chain(*centroid_points_new))\n",
    "    Diff = [abs(x-y) for x, y in zip(oldvalue, newvalue)]\n",
    "    Flag = True\n",
    "    for i in Diff:\n",
    "        if(i>T):\n",
    "            Flag = False\n",
    "            break\n",
    "    return Flag\n",
    "\n",
    "class MRKmeans(MRJob):\n",
    "    centroid_points=[]\n",
    "    k=3    \n",
    "    def steps(self):\n",
    "        return [\n",
    "            MRStep(mapper_init = self.mapper_init, mapper=self.mapper,combiner = self.combiner,reducer=self.reducer)\n",
    "               ]\n",
    "    #load centroids info from file\n",
    "    def mapper_init(self):\n",
    "        print \"Current path:\", os.path.dirname(os.path.realpath(__file__))\n",
    "        \n",
    "        self.centroid_points = [map(float,s.split('\\n')[0].split(',')) for s in open(\"Centroids.txt\").readlines()]\n",
    "        #open('Centroids.txt', 'w').close()\n",
    "        \n",
    "        print \"Centroids: \", self.centroid_points\n",
    "        \n",
    "    #load data and output the nearest centroid index and data point \n",
    "    def mapper(self, _, line):\n",
    "        D = (map(float,line.split(',')))\n",
    "        yield int(MinDist(D,self.centroid_points)), (D[0],D[1],1)\n",
    "    #Combine sum of data points locally\n",
    "    def combiner(self, idx, inputdata):\n",
    "        sumx = sumy = num = 0\n",
    "        for x,y,n in inputdata:\n",
    "            num = num + n\n",
    "            sumx = sumx + x\n",
    "            sumy = sumy + y\n",
    "        yield idx,(sumx,sumy,num)\n",
    "    #Aggregate sum for each cluster and then calculate the new centroids\n",
    "    def reducer(self, idx, inputdata): \n",
    "        centroids = []\n",
    "        num = [0]*self.k \n",
    "        for i in range(self.k):\n",
    "            centroids.append([0,0])\n",
    "        for x, y, n in inputdata:\n",
    "            num[idx] = num[idx] + n\n",
    "            centroids[idx][0] = centroids[idx][0] + x\n",
    "            centroids[idx][1] = centroids[idx][1] + y\n",
    "        centroids[idx][0] = centroids[idx][0]/num[idx]\n",
    "        centroids[idx][1] = centroids[idx][1]/num[idx]\n",
    "\n",
    "        yield idx,(centroids[idx][0],centroids[idx][1])\n",
    "      \n",
    "if __name__ == '__main__':\n",
    "    MRKmeans.run()"
   ]
  },
  {
   "cell_type": "code",
   "execution_count": 143,
   "metadata": {
    "collapsed": false
   },
   "outputs": [
    {
     "name": "stdout",
     "output_type": "stream",
     "text": [
      "iteration0:\n",
      "Current path: /tmp/Kmeans.cloudera.20161023.213009.408667/job_local_dir/0/mapper/0\n",
      "Centroids:  [[-1.75312412735, -0.522128768623], [0.264628516987, 1.12269395623], [-2.50001824328, -0.505566871974]]\n",
      "Current path: /tmp/Kmeans.cloudera.20161023.213009.408667/job_local_dir/0/mapper/1\n",
      "Centroids:  [[-1.75312412735, -0.522128768623], [0.264628516987, 1.12269395623], [-2.50001824328, -0.505566871974]]\n",
      "0 [-1.7904060067059906, 0.15809043794498376]\n",
      "1 [2.5517749819686366, 2.482631469627905]\n",
      "2 [-5.0293301603928535, 0.009883066682740235]\n",
      "\n",
      "\n",
      "iteration1:\n",
      "Current path: /tmp/Kmeans.cloudera.20161023.213009.687007/job_local_dir/0/mapper/0\n",
      "Centroids:  [[-1.79040600671, 0.158090437945], [2.55177498197, 2.48263146963], [-5.02933016039, 0.00988306668274]]\n",
      "Current path: /tmp/Kmeans.cloudera.20161023.213009.687007/job_local_dir/0/mapper/1\n",
      "Centroids:  [[-1.79040600671, 0.158090437945], [2.55177498197, 2.48263146963], [-5.02933016039, 0.00988306668274]]\n",
      "0 [-2.205858707618006, 2.3127798862284714]\n",
      "1 [2.8558403359006412, 2.374765514609414]\n",
      "2 [-5.258484914061264, -0.028792236626079996]\n",
      "\n",
      "\n",
      "iteration2:\n",
      "Current path: /tmp/Kmeans.cloudera.20161023.213009.896535/job_local_dir/0/mapper/0\n",
      "Centroids:  [[-2.20585870762, 2.31277988623], [2.8558403359, 2.37476551461], [-5.25848491406, -0.0287922366261]]\n",
      "Current path: /tmp/Kmeans.cloudera.20161023.213009.896535/job_local_dir/0/mapper/1\n",
      "Centroids:  [[-2.20585870762, 2.31277988623], [2.8558403359, 2.37476551461], [-5.25848491406, -0.0287922366261]]\n",
      "0 [-1.1917136455618718, 4.4422786351744294]\n",
      "1 [3.8516618902288875, 1.514605528675241]\n",
      "2 [-5.18946637665841, -0.1365978763972875]\n",
      "\n",
      "\n",
      "iteration3:\n",
      "Current path: /tmp/Kmeans.cloudera.20161023.213010.165509/job_local_dir/0/mapper/0\n",
      "Centroids:  [[-1.19171364556, 4.44227863517], [3.85166189023, 1.51460552868], [-5.18946637666, -0.136597876397]]\n",
      "Current path: /tmp/Kmeans.cloudera.20161023.213010.165509/job_local_dir/0/mapper/1\n",
      "Centroids:  [[-1.19171364556, 4.44227863517], [3.85166189023, 1.51460552868], [-5.18946637666, -0.136597876397]]\n",
      "0 [-0.0979067726217919, 5.003614134729571]\n",
      "1 [4.929135752834473, 0.14099509575286046]\n",
      "2 [-5.013904536695912, -0.02842293373227361]\n",
      "\n",
      "\n",
      "iteration4:\n",
      "Current path: /tmp/Kmeans.cloudera.20161023.213010.361904/job_local_dir/0/mapper/0\n",
      "Centroids:  [[-0.0979067726218, 5.00361413473], [4.92913575283, 0.140995095753], [-5.0139045367, -0.0284229337323]]\n",
      "Current path: /tmp/Kmeans.cloudera.20161023.213010.361904/job_local_dir/0/mapper/1\n",
      "Centroids:  [[-0.0979067726218, 5.00361413473], [4.92913575283, 0.140995095753], [-5.0139045367, -0.0284229337323]]\n",
      "0 [0.04009229720112095, 4.994383121818837]\n",
      "1 [5.030614702678463, -0.015280450423949538]\n",
      "2 [-4.988208799410262, -0.0016052213546992817]\n",
      "\n",
      "\n",
      "iteration5:\n",
      "Current path: /tmp/Kmeans.cloudera.20161023.213010.656224/job_local_dir/0/mapper/0\n",
      "Centroids:  [[0.0400922972011, 4.99438312182], [5.03061470268, -0.0152804504239], [-4.98820879941, -0.0016052213547]]\n",
      "Current path: /tmp/Kmeans.cloudera.20161023.213010.656224/job_local_dir/0/mapper/1\n",
      "Centroids:  [[0.0400922972011, 4.99438312182], [5.03061470268, -0.0152804504239], [-4.98820879941, -0.0016052213547]]\n",
      "0 [0.053065423788147964, 4.987793423944292]\n",
      "1 [5.0402327160888465, -0.026294229978289455]\n",
      "2 [-4.98580568889943, 0.0009376094363626959]\n",
      "\n",
      "\n",
      "iteration6:\n",
      "Current path: /tmp/Kmeans.cloudera.20161023.213010.869481/job_local_dir/0/mapper/0\n",
      "Centroids:  [[0.0530654237881, 4.98779342394], [5.04023271609, -0.0262942299783], [-4.9858056889, 0.000937609436363]]\n",
      "Current path: /tmp/Kmeans.cloudera.20161023.213010.869481/job_local_dir/0/mapper/1\n",
      "Centroids:  [[0.0530654237881, 4.98779342394], [5.04023271609, -0.0262942299783], [-4.9858056889, 0.000937609436363]]\n",
      "0 [0.053065423788147964, 4.987793423944292]\n",
      "1 [5.0402327160888465, -0.026294229978289455]\n",
      "2 [-4.98580568889943, 0.0009376094363626959]\n",
      "\n",
      "\n",
      "Centroids\n",
      "\n",
      "[[0.053065423788147964, 4.987793423944292], [5.0402327160888465, -0.026294229978289455], [-4.98580568889943, 0.0009376094363626959]]\n"
     ]
    }
   ],
   "source": [
    "%reload_ext autoreload\n",
    "%autoreload 2\n",
    "from numpy import random\n",
    "from Kmeans import MRKmeans, stop_criterion\n",
    "mr_job = MRKmeans(args=['kmeans.csv', '--file=Centroids.txt'])\n",
    "\n",
    "#Geneate initial centroids\n",
    "centroid_points = []\n",
    "k = 3\n",
    "for i in range(k):\n",
    "    centroid_points.append([random.uniform(-3,3),random.uniform(-3,3)])\n",
    "with open('Centroids.txt', 'w+') as f:\n",
    "        f.writelines(','.join(str(j) for j in i) + '\\n' for i in centroid_points)\n",
    "\n",
    "# Update centroids iteratively\n",
    "i = 0\n",
    "while(1):\n",
    "    # save previous centoids to check convergency\n",
    "    centroid_points_old = centroid_points[:]\n",
    "    print \"iteration\"+str(i)+\":\"\n",
    "    with mr_job.make_runner() as runner: \n",
    "        runner.run()\n",
    "        # stream_output: get access of the output \n",
    "        for line in runner.stream_output():\n",
    "            key,value =  mr_job.parse_output_line(line)\n",
    "            print key, value\n",
    "            centroid_points[key] = value\n",
    "            \n",
    "        # Update the centroids for the next iteration\n",
    "        with open('Centroids.txt', 'w') as f:\n",
    "            f.writelines(','.join(str(j) for j in i) + '\\n' for i in centroid_points)\n",
    "        \n",
    "    print \"\\n\"\n",
    "    i = i + 1\n",
    "    if(stop_criterion(centroid_points_old,centroid_points,0.01)):\n",
    "        break\n",
    "print \"Centroids\\n\"\n",
    "print centroid_points"
   ]
  },
  {
   "cell_type": "code",
   "execution_count": 40,
   "metadata": {
    "collapsed": false
   },
   "outputs": [
    {
     "name": "stdout",
     "output_type": "stream",
     "text": [
      "Overwriting kldivergence2.py\n"
     ]
    }
   ],
   "source": [
    "%%writefile kldivergence2.py\n",
    "# coding: utf-8\n",
    "#code to produce distrbutions for KLL\n",
    "#didn't have time to add this in the original code\n",
    "\n",
    "from __future__ import division\n",
    "from mrjob.job import MRJob\n",
    "from mrjob.step import MRStep\n",
    "import re\n",
    "import numpy as np\n",
    "\n",
    "class kldivergence2(MRJob):\n",
    "    # process each string character by character\n",
    "    # the relative frequency of each character emitting Pr(character|str)\n",
    "    # for input record 1.abcbe\n",
    "    # emit \"a\"    [1, 0.2]\n",
    "    # emit \"b\"    [1, 0.4] etc...\n",
    "    def mapper1(self, _, line):\n",
    "        index = int(line.split('.',1)[0])\n",
    "        letter_list = re.sub(r\"[^A-Za-z]+\", '', line).lower()\n",
    "        count = {}\n",
    "        for l in letter_list:\n",
    "            if count.has_key(l):\n",
    "                count[l] += 1\n",
    "            else:\n",
    "                count[l] = 1\n",
    "        for key in count:\n",
    "            yield key, [index, count[key]*1.0/len(letter_list)]\n",
    "\n",
    "    # on a component i calculate (e.g., \"b\")\n",
    "    # Kullback–Leibler divergence of Q from P is defined as (P(i) log (P(i) / Q(i))\n",
    "    def reducer1(self, key, values):\n",
    "        \n",
    "      #  print key\n",
    "        p = 0\n",
    "        q = 0\n",
    "        #toggle manually\n",
    "        #could write both files here\n",
    "        for v in values:\n",
    "            if v[0] == 1:  #String 1\n",
    "                p = v[1]\n",
    "                print p\n",
    "            else:          # String 2\n",
    "                q = v[1]\n",
    "                #print  q\n",
    "            \n",
    "            \n",
    "    def steps(self):\n",
    "        mr_steps = [self.mr(mapper=self.mapper1,\n",
    "                        reducer=self.reducer1)]\n",
    "#         mr_steps = [MRStep(mapper=self.mapper1, reducer=self.reducer1)]\n",
    "        return mr_steps\n",
    "\n",
    "if __name__ == '__main__':\n",
    "    kldivergence2.run()"
   ]
  },
  {
   "cell_type": "code",
   "execution_count": 41,
   "metadata": {
    "collapsed": false
   },
   "outputs": [
    {
     "name": "stdout",
     "output_type": "stream",
     "text": [
      "No configs found; falling back on auto-configuration\n",
      "Creating temp directory /tmp/kldivergence2.cloudera.20161023.200017.136265\n",
      "mr() is deprecated and will be removed in v0.6.0. Use mrjob.step.MRStep directly instead.\n",
      "Running step 1 of 1...\n",
      "reading from STDIN\n",
      "mr() is deprecated and will be removed in v0.6.0. Use mrjob.step.MRStep directly instead.\n",
      "mr() is deprecated and will be removed in v0.6.0. Use mrjob.step.MRStep directly instead.\n",
      "mr() is deprecated and will be removed in v0.6.0. Use mrjob.step.MRStep directly instead.\n",
      "mr() is deprecated and will be removed in v0.6.0. Use mrjob.step.MRStep directly instead.\n",
      "mr() is deprecated and will be removed in v0.6.0. Use mrjob.step.MRStep directly instead.\n",
      "mr() is deprecated and will be removed in v0.6.0. Use mrjob.step.MRStep directly instead.\n",
      "Streaming final output from /tmp/kldivergence2.cloudera.20161023.200017.136265/output...\n",
      "Removing temp directory /tmp/kldivergence2.cloudera.20161023.200017.136265...\n"
     ]
    }
   ],
   "source": [
    "\n",
    "#toggle with the changes in script above\n",
    "!cat kltext.txt | python  kldivergence2.py > p.txt\n",
    "#!cat kltext.txt | python  kldivergence2.py > q2.txt"
   ]
  },
  {
   "cell_type": "code",
   "execution_count": 38,
   "metadata": {
    "collapsed": false
   },
   "outputs": [
    {
     "name": "stdout",
     "output_type": "stream",
     "text": [
      "No configs found; falling back on auto-configuration\r\n",
      "Creating temp directory /tmp/kldivergence2.cloudera.20161023.195955.232193\r\n",
      "mr() is deprecated and will be removed in v0.6.0. Use mrjob.step.MRStep directly instead.\r\n",
      "Running step 1 of 1...\r\n",
      "reading from STDIN\r\n",
      "mr() is deprecated and will be removed in v0.6.0. Use mrjob.step.MRStep directly instead.\r\n",
      "mr() is deprecated and will be removed in v0.6.0. Use mrjob.step.MRStep directly instead.\r\n",
      "mr() is deprecated and will be removed in v0.6.0. Use mrjob.step.MRStep directly instead.\r\n",
      "mr() is deprecated and will be removed in v0.6.0. Use mrjob.step.MRStep directly instead.\r\n",
      "mr() is deprecated and will be removed in v0.6.0. Use mrjob.step.MRStep directly instead.\r\n",
      "mr() is deprecated and will be removed in v0.6.0. Use mrjob.step.MRStep directly instead.\r\n",
      "Streaming final output from /tmp/kldivergence2.cloudera.20161023.195955.232193/output...\r\n",
      "Removing temp directory /tmp/kldivergence2.cloudera.20161023.195955.232193...\r\n"
     ]
    }
   ],
   "source": [
    "#!cat kltext.txt | python  kldivergence2.py > p1.txt\n",
    "!cat kltext.txt | python  kldivergence2.py > q.txt"
   ]
  },
  {
   "cell_type": "code",
   "execution_count": 42,
   "metadata": {
    "collapsed": false
   },
   "outputs": [
    {
     "name": "stdout",
     "output_type": "stream",
     "text": [
      "0.110787172012\r\n",
      "0.00583090379009\r\n",
      "0.0408163265306\r\n",
      "0.0553935860058\r\n",
      "0.0758017492711\r\n",
      "0.0291545189504\r\n",
      "0.0145772594752\r\n",
      "0.0174927113703\r\n",
      "0.0962099125364\r\n",
      "0.00583090379009\r\n",
      "0.0320699708455\r\n",
      "0.0262390670554\r\n",
      "0.064139941691\r\n",
      "0.069970845481\r\n",
      "0.00874635568513\r\n",
      "0.067055393586\r\n",
      "0.110787172012\r\n",
      "0.0816326530612\r\n",
      "0.0379008746356\r\n",
      "0.0204081632653\r\n",
      "0.0116618075802\r\n",
      "0.00291545189504\r\n",
      "0.0145772594752\r\n"
     ]
    }
   ],
   "source": [
    "!cat p.txt"
   ]
  },
  {
   "cell_type": "markdown",
   "metadata": {
    "collapsed": true
   },
   "source": [
    "# END of Exam"
   ]
  }
 ],
 "metadata": {
  "anaconda-cloud": {},
  "kernelspec": {
   "display_name": "Python [Root]",
   "language": "python",
   "name": "Python [Root]"
  },
  "language_info": {
   "codemirror_mode": {
    "name": "ipython",
    "version": 2
   },
   "file_extension": ".py",
   "mimetype": "text/x-python",
   "name": "python",
   "nbconvert_exporter": "python",
   "pygments_lexer": "ipython2",
   "version": "2.7.12"
  }
 },
 "nbformat": 4,
 "nbformat_minor": 0
}
